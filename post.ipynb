{
 "cells": [
  {
   "cell_type": "markdown",
   "metadata": {},
   "source": [
    "# Deep learning for tabular data\n",
    "\n",
    "There's no shortage of hype surrounding deep learning these days. And for good reason. Advances in AI are crossing frontiers that many didn't expect to see crossed for decades with the advent of new algorithms and the hardware that makes training these models feasible.\n",
    "\n",
    "Most of the discussion surrounding deep learning retains a focus on artificial intelligence, such as NLP and computer vision where the model inputs are images or free text. This is in contrast to many of the problems in industry where the data at hand follows the more tradditional \"tabular\" structure. This tabular structure is characterized by the following traits\n",
    "\n",
    "- The data set is 2-dimmensional, i.e. rows and columns.\n",
    "- The dimmensionality of the feature space (the columns) is fixed.\n",
    "- The features are made up of mixed types including numeric and categorical values.\n",
    "- The scales of the numeric values differ from feature to feature.\n",
    "\n",
    "In this post we will explore how to apply deep learning to the sort of tabular data that many of us work with on a day to day basis. Some of the concepts we'll take a look at in particular include\n",
    "\n",
    "- Handling categorical features (of varying dimmensionality)\n",
    "- Augmenting a tabular data set with non-tabular features (such as text, image, etc.)\n",
    "- Augmenting a tabular data set with features of variable dimmensionality (such as time series, free text, video, etc.)\n",
    "\n",
    "# The data\n",
    "\n",
    "In this post we'll work with the [california housing data set](https://scikit-learn.org/stable/datasets/index.html#california-housing-dataset). The base data set that you can import from `sklearn` only contains numeric features. For the purpose of this post I enriched the base data set with zip codes, counties and free text scraped from the wikipedia article of each county. The data was encriched with [this notebook](https://github.com/dantegates/deep-learning-for-tabular-data/blob/master/enrich-california-housing-data.ipynb).\n",
    "\n",
    "Before getting started I want to point at that this post is meant to be illustrative. The data set is rather small and limits how \"deep\" out models can be. I also don't claim that the modeling approaches in this notebook are the optimal way to solve this problem, but hopefully demonstrate some principles that can be generalized to other problems."
   ]
  },
  {
   "cell_type": "markdown",
   "metadata": {},
   "source": [
    "# The data in detail\n",
    "\n",
    "Let's take a look at the data set in detail. Here are the first few records."
   ]
  },
  {
   "cell_type": "code",
   "execution_count": 1,
   "metadata": {},
   "outputs": [],
   "source": [
    "import pandas as pd"
   ]
  },
  {
   "cell_type": "code",
   "execution_count": 2,
   "metadata": {},
   "outputs": [
    {
     "data": {
      "text/plain": [
       "(20374, 15)"
      ]
     },
     "execution_count": 2,
     "metadata": {},
     "output_type": "execute_result"
    }
   ],
   "source": [
    "df = pd.read_csv('california_housing_enriched.csv.gz')\n",
    "df.shape"
   ]
  },
  {
   "cell_type": "code",
   "execution_count": 3,
   "metadata": {},
   "outputs": [
    {
     "data": {
      "text/html": [
       "<div>\n",
       "<style scoped>\n",
       "    .dataframe tbody tr th:only-of-type {\n",
       "        vertical-align: middle;\n",
       "    }\n",
       "\n",
       "    .dataframe tbody tr th {\n",
       "        vertical-align: top;\n",
       "    }\n",
       "\n",
       "    .dataframe thead th {\n",
       "        text-align: right;\n",
       "    }\n",
       "</style>\n",
       "<table border=\"1\" class=\"dataframe\">\n",
       "  <thead>\n",
       "    <tr style=\"text-align: right;\">\n",
       "      <th></th>\n",
       "      <th>MedInc</th>\n",
       "      <th>HouseAge</th>\n",
       "      <th>AveRooms</th>\n",
       "      <th>AveBedrms</th>\n",
       "      <th>Population</th>\n",
       "      <th>AveOccup</th>\n",
       "      <th>Latitude</th>\n",
       "      <th>Longitude</th>\n",
       "      <th>median_house_value</th>\n",
       "      <th>zip_code</th>\n",
       "      <th>county</th>\n",
       "      <th>county_description</th>\n",
       "      <th>is_train</th>\n",
       "      <th>zip_code_encoding</th>\n",
       "      <th>county_encoding</th>\n",
       "    </tr>\n",
       "  </thead>\n",
       "  <tbody>\n",
       "    <tr>\n",
       "      <th>0</th>\n",
       "      <td>8.3252</td>\n",
       "      <td>41.0</td>\n",
       "      <td>6.984127</td>\n",
       "      <td>1.023810</td>\n",
       "      <td>322.0</td>\n",
       "      <td>2.555556</td>\n",
       "      <td>37.88</td>\n",
       "      <td>-122.23</td>\n",
       "      <td>4.526</td>\n",
       "      <td>94611</td>\n",
       "      <td>Contra Costa County</td>\n",
       "      <td>Contra Costa County is a county in the state o...</td>\n",
       "      <td>False</td>\n",
       "      <td>0</td>\n",
       "      <td>1</td>\n",
       "    </tr>\n",
       "    <tr>\n",
       "      <th>1</th>\n",
       "      <td>8.3014</td>\n",
       "      <td>21.0</td>\n",
       "      <td>6.238137</td>\n",
       "      <td>0.971880</td>\n",
       "      <td>2401.0</td>\n",
       "      <td>2.109842</td>\n",
       "      <td>37.86</td>\n",
       "      <td>-122.22</td>\n",
       "      <td>3.585</td>\n",
       "      <td>94611</td>\n",
       "      <td>Alameda County</td>\n",
       "      <td>Alameda County (/ˌæləˈmiːdə/ AL-ə-MEE-də) is a...</td>\n",
       "      <td>True</td>\n",
       "      <td>0</td>\n",
       "      <td>0</td>\n",
       "    </tr>\n",
       "    <tr>\n",
       "      <th>2</th>\n",
       "      <td>7.2574</td>\n",
       "      <td>52.0</td>\n",
       "      <td>8.288136</td>\n",
       "      <td>1.073446</td>\n",
       "      <td>496.0</td>\n",
       "      <td>2.802260</td>\n",
       "      <td>37.85</td>\n",
       "      <td>-122.24</td>\n",
       "      <td>3.521</td>\n",
       "      <td>94618</td>\n",
       "      <td>Alameda County</td>\n",
       "      <td>Alameda County (/ˌæləˈmiːdə/ AL-ə-MEE-də) is a...</td>\n",
       "      <td>True</td>\n",
       "      <td>1</td>\n",
       "      <td>0</td>\n",
       "    </tr>\n",
       "    <tr>\n",
       "      <th>3</th>\n",
       "      <td>5.6431</td>\n",
       "      <td>52.0</td>\n",
       "      <td>5.817352</td>\n",
       "      <td>1.073059</td>\n",
       "      <td>558.0</td>\n",
       "      <td>2.547945</td>\n",
       "      <td>37.85</td>\n",
       "      <td>-122.25</td>\n",
       "      <td>3.413</td>\n",
       "      <td>94618</td>\n",
       "      <td>Alameda County</td>\n",
       "      <td>Alameda County (/ˌæləˈmiːdə/ AL-ə-MEE-də) is a...</td>\n",
       "      <td>True</td>\n",
       "      <td>1</td>\n",
       "      <td>0</td>\n",
       "    </tr>\n",
       "    <tr>\n",
       "      <th>4</th>\n",
       "      <td>3.8462</td>\n",
       "      <td>52.0</td>\n",
       "      <td>6.281853</td>\n",
       "      <td>1.081081</td>\n",
       "      <td>565.0</td>\n",
       "      <td>2.181467</td>\n",
       "      <td>37.85</td>\n",
       "      <td>-122.25</td>\n",
       "      <td>3.422</td>\n",
       "      <td>94618</td>\n",
       "      <td>Alameda County</td>\n",
       "      <td>Alameda County (/ˌæləˈmiːdə/ AL-ə-MEE-də) is a...</td>\n",
       "      <td>True</td>\n",
       "      <td>1</td>\n",
       "      <td>0</td>\n",
       "    </tr>\n",
       "  </tbody>\n",
       "</table>\n",
       "</div>"
      ],
      "text/plain": [
       "   MedInc  HouseAge  AveRooms  AveBedrms  Population  AveOccup  Latitude  \\\n",
       "0  8.3252      41.0  6.984127   1.023810       322.0  2.555556     37.88   \n",
       "1  8.3014      21.0  6.238137   0.971880      2401.0  2.109842     37.86   \n",
       "2  7.2574      52.0  8.288136   1.073446       496.0  2.802260     37.85   \n",
       "3  5.6431      52.0  5.817352   1.073059       558.0  2.547945     37.85   \n",
       "4  3.8462      52.0  6.281853   1.081081       565.0  2.181467     37.85   \n",
       "\n",
       "   Longitude  median_house_value  zip_code               county  \\\n",
       "0    -122.23               4.526     94611  Contra Costa County   \n",
       "1    -122.22               3.585     94611       Alameda County   \n",
       "2    -122.24               3.521     94618       Alameda County   \n",
       "3    -122.25               3.413     94618       Alameda County   \n",
       "4    -122.25               3.422     94618       Alameda County   \n",
       "\n",
       "                                  county_description  is_train  \\\n",
       "0  Contra Costa County is a county in the state o...     False   \n",
       "1  Alameda County (/ˌæləˈmiːdə/ AL-ə-MEE-də) is a...      True   \n",
       "2  Alameda County (/ˌæləˈmiːdə/ AL-ə-MEE-də) is a...      True   \n",
       "3  Alameda County (/ˌæləˈmiːdə/ AL-ə-MEE-də) is a...      True   \n",
       "4  Alameda County (/ˌæləˈmiːdə/ AL-ə-MEE-də) is a...      True   \n",
       "\n",
       "   zip_code_encoding  county_encoding  \n",
       "0                  0                1  \n",
       "1                  0                0  \n",
       "2                  1                0  \n",
       "3                  1                0  \n",
       "4                  1                0  "
      ]
     },
     "execution_count": 3,
     "metadata": {},
     "output_type": "execute_result"
    }
   ],
   "source": [
    "df.head()"
   ]
  },
  {
   "cell_type": "markdown",
   "metadata": {},
   "source": [
    "As we can see there are a mix of numeric and categorical features in the data set as well as the free text scraped from wikipedia that we mentioned above. The target variable is `median_house_value`.\n",
    "\n",
    "Lastly we'll define our feature columns according to their types for convenience below when we train the models and separate our data into train/test splits."
   ]
  },
  {
   "cell_type": "code",
   "execution_count": 4,
   "metadata": {},
   "outputs": [],
   "source": [
    "target = 'median_house_value'\n",
    "numeric_features = [\n",
    "    'MedInc',\n",
    "    'HouseAge',\n",
    "    'AveRooms',\n",
    "    'AveBedrms',\n",
    "    'Population',\n",
    "    'AveOccup',\n",
    "    'Latitude',\n",
    "    'Longitude'\n",
    "]\n",
    "categorical_features = [\n",
    "    'zip_code_encoding',\n",
    "    'county_encoding',\n",
    "]\n",
    "text_features = [\n",
    "    'county_description'\n",
    "]\n",
    "all_features = numeric_features + categorical_features + text_features"
   ]
  },
  {
   "cell_type": "code",
   "execution_count": 5,
   "metadata": {},
   "outputs": [
    {
     "data": {
      "text/plain": [
       "((16261, 11), (4113, 11))"
      ]
     },
     "execution_count": 5,
     "metadata": {},
     "output_type": "execute_result"
    }
   ],
   "source": [
    "X_train = df.loc[df.is_train, all_features]\n",
    "y_train = df.loc[df.is_train, target]\n",
    "X_test = df.loc[~df.is_train, all_features]\n",
    "y_test = df.loc[~df.is_train, target]\n",
    "X_train.shape, X_test.shape"
   ]
  },
  {
   "cell_type": "markdown",
   "metadata": {},
   "source": [
    "# Model 1: Basic Feed Forward Network\n",
    "\n",
    "We'll start simple with a basic feed forward network. We'll simply train the model on all of the numeric features and establish a baseline performance. This is pretty easy with the `keras.Sequential` API. Since we don't have much data we'll only use two hidden layers and keep the number of their outputs small.\n",
    "\n",
    "Note that the first layer is batch normalization. Before the first layer we can think of this as analagous to using something like `sklearn`'s [StandardScaler](https://scikit-learn.org/stable/modules/generated/sklearn.preprocessing.StandardScaler.html). However in general batch normalization can regularize neural networks and help them converge faster. For this reason we'll use batch normalization between the hidden layers as well. For our small data set this might not be as important but, again, this is meant to be illustrative."
   ]
  },
  {
   "cell_type": "code",
   "execution_count": 6,
   "metadata": {},
   "outputs": [
    {
     "name": "stderr",
     "output_type": "stream",
     "text": [
      "Using TensorFlow backend.\n"
     ]
    }
   ],
   "source": [
    "import keras\n",
    "\n",
    "# numeric features\n",
    "model = keras.Sequential([\n",
    "    keras.layers.BatchNormalization(input_shape=(len(numeric_features),)),\n",
    "    keras.layers.Dense(20, activation='relu'),\n",
    "    keras.layers.BatchNormalization(),\n",
    "    keras.layers.Dense(20, activation='relu'),\n",
    "    keras.layers.BatchNormalization(),\n",
    "    keras.layers.Dense(1, activation='relu'),\n",
    "])"
   ]
  },
  {
   "cell_type": "code",
   "execution_count": 7,
   "metadata": {},
   "outputs": [
    {
     "name": "stdout",
     "output_type": "stream",
     "text": [
      "_________________________________________________________________\n",
      "Layer (type)                 Output Shape              Param #   \n",
      "=================================================================\n",
      "batch_normalization_1 (Batch (None, 8)                 32        \n",
      "_________________________________________________________________\n",
      "dense_1 (Dense)              (None, 20)                180       \n",
      "_________________________________________________________________\n",
      "batch_normalization_2 (Batch (None, 20)                80        \n",
      "_________________________________________________________________\n",
      "dense_2 (Dense)              (None, 20)                420       \n",
      "_________________________________________________________________\n",
      "batch_normalization_3 (Batch (None, 20)                80        \n",
      "_________________________________________________________________\n",
      "dense_3 (Dense)              (None, 1)                 21        \n",
      "=================================================================\n",
      "Total params: 813\n",
      "Trainable params: 717\n",
      "Non-trainable params: 96\n",
      "_________________________________________________________________\n"
     ]
    }
   ],
   "source": [
    "model.summary()"
   ]
  },
  {
   "cell_type": "code",
   "execution_count": 8,
   "metadata": {},
   "outputs": [],
   "source": [
    "model.compile(loss='mse', optimizer='adam')"
   ]
  },
  {
   "cell_type": "code",
   "execution_count": 9,
   "metadata": {},
   "outputs": [
    {
     "name": "stdout",
     "output_type": "stream",
     "text": [
      "Train on 16261 samples, validate on 4113 samples\n",
      "Epoch 1/3\n",
      "16261/16261 [==============================] - 2s 112us/step - loss: 1.4512 - val_loss: 0.7095\n",
      "Epoch 2/3\n",
      "16261/16261 [==============================] - 1s 69us/step - loss: 0.5977 - val_loss: 0.5780\n",
      "Epoch 3/3\n",
      "16261/16261 [==============================] - 1s 67us/step - loss: 0.5226 - val_loss: 0.5210\n"
     ]
    },
    {
     "data": {
      "text/plain": [
       "<keras.callbacks.History at 0x1272f10b8>"
      ]
     },
     "execution_count": 9,
     "metadata": {},
     "output_type": "execute_result"
    }
   ],
   "source": [
    "model.fit(\n",
    "    X_train[numeric_features], y_train,\n",
    "    epochs=3,\n",
    "    validation_data=(X_test[numeric_features], y_test)\n",
    ")"
   ]
  },
  {
   "cell_type": "markdown",
   "metadata": {},
   "source": [
    "After three epochs MSE is at 0.52, which isn't great and the model may be close to overfitting a bit, but it's a start. Let's take a look at a plot of the actual vs. predicted values just to visualize what that MSE means\n",
    "accross all the entire test set."
   ]
  },
  {
   "cell_type": "code",
   "execution_count": 10,
   "metadata": {},
   "outputs": [
    {
     "data": {
      "text/plain": [
       "[<matplotlib.lines.Line2D at 0x127c22828>]"
      ]
     },
     "execution_count": 10,
     "metadata": {},
     "output_type": "execute_result"
    },
    {
     "data": {
      "image/png": "[encoded data removed]",
      "text/plain": [
       "<matplotlib.figure.Figure at 0x127c1da90>"
      ]
     },
     "metadata": {},
     "output_type": "display_data"
    }
   ],
   "source": [
    "import matplotlib.pyplot as plt\n",
    "plt.scatter(y_test, model.predict(X_test[numeric_features]), alpha=0.8)\n",
    "plt.plot([0, 5], [0, 5], color='r')"
   ]
  },
  {
   "cell_type": "markdown",
   "metadata": {},
   "source": [
    "The performance isn't great, but for a quick and basic implementation perhaps not all that bad either. Let's move on to including categorical features."
   ]
  },
  {
   "cell_type": "markdown",
   "metadata": {},
   "source": [
    "# Model 2: Basic Feed Forward Network with Embeddings\n",
    "\n",
    "In our second approach we'll include zip code and county as features. Let's take a look at the cardinality of these features."
   ]
  },
  {
   "cell_type": "code",
   "execution_count": 11,
   "metadata": {},
   "outputs": [
    {
     "data": {
      "text/plain": [
       "(1725, 61)"
      ]
     },
     "execution_count": 11,
     "metadata": {},
     "output_type": "execute_result"
    }
   ],
   "source": [
    "df.zip_code.nunique(), df.county.nunique()"
   ]
  },
  {
   "cell_type": "markdown",
   "metadata": {},
   "source": [
    "There aren't too many counties. If we wanted we could one-hot encode these and include it as a feature that way. However, zip code is much bigger. One hot encoding this feature would significantly increase the size of our network (the first layer will have at least $1,725\\times h_1$ weights, where $h_1$ is the number of outputs in the first hidden layer). It turns out that categorical features like this can be represented with embeddings to keep the size of our model down. An embedding is simply a *learned* mapping from a categorical input to a feature space of a chosen size. Typically these are used to convert words or characters in text data into features suitable for a neural network but they work for our purposes here as well. In this case we'll embed both zip codes and counties into 3 dimmensions. Note that there are [pretrained word embeddings](https://radimrehurek.com/gensim/models/word2vec.html) available that can be used instead of learning embeddings as part of your model if desired.\n",
    "\n",
    "The code to do this in `keras` gives the appearance that more is going on than there actually is. All we are doing here is adding 6 additional features (3 for both categorical values) to the numeric input and then building a basic feed forward neural network on top of that just as we did above. The graphical representation below is helpful."
   ]
  },
  {
   "cell_type": "code",
   "execution_count": 12,
   "metadata": {},
   "outputs": [],
   "source": [
    "# numeric features\n",
    "numeric_inputs = keras.layers.Input(shape=(len(numeric_features),), name='numeric_input')\n",
    "## normalize the numeric inputs!\n",
    "x_numeric = keras.layers.BatchNormalization()(numeric_inputs)\n",
    "\n",
    "# categorical feature embeddings\n",
    "zip_code_input = keras.layers.Input(shape=(1,), name='zip_code_input')\n",
    "zip_code_embedding = keras.layers.Embedding(\n",
    "    input_dim=X_train.zip_code_encoding.nunique()+1,\n",
    "    output_dim=3, input_length=1)(zip_code_input)\n",
    "\n",
    "county_input = keras.layers.Input(shape=(1,), name='county_input')\n",
    "county_embedding = keras.layers.Embedding(\n",
    "    input_dim=X_train.zip_code_encoding.nunique()+1,\n",
    "    output_dim=3, input_length=1)(county_input)\n",
    "embedding_tensors = [zip_code_embedding, county_embedding]\n",
    "x_embeddings = keras.layers.Concatenate()([keras.layers.Flatten()(embedding) for embedding in embedding_tensors])\n",
    "\n",
    "x = keras.layers.Concatenate()([x_numeric, x_embeddings])\n",
    "x = keras.layers.Dense(26, activation='relu')(x)\n",
    "x = keras.layers.BatchNormalization()(x)\n",
    "x = keras.layers.Dense(14, activation='relu')(x)\n",
    "x = keras.layers.BatchNormalization()(x)\n",
    "x = keras.layers.Dense(1, activation='relu')(x)\n",
    "\n",
    "model = keras.models.Model(inputs=[numeric_inputs, zip_code_input, county_input], outputs=x)"
   ]
  },
  {
   "cell_type": "code",
   "execution_count": 13,
   "metadata": {},
   "outputs": [
    {
     "data": {
      "image/svg+xml": [
       "<svg height=\"702pt\" viewBox=\"0.00 0.00 592.94 702.00\" width=\"593pt\" xmlns=\"http://www.w3.org/2000/svg\" xmlns:xlink=\"http://www.w3.org/1999/xlink\">\n",
       "<g class=\"graph\" id=\"graph0\" transform=\"scale(1 1) rotate(0) translate(4 698)\">\n",
       "<title>G</title>\n",
       "<polygon fill=\"#ffffff\" points=\"-4,4 -4,-698 588.9351,-698 588.9351,4 -4,4\" stroke=\"transparent\"/>\n",
       "<!-- 4997191496 -->\n",
       "<g class=\"node\" id=\"node1\">\n",
       "<title>4997191496</title>\n",
       "<polygon fill=\"none\" points=\"0,-657.5 0,-693.5 171.8936,-693.5 171.8936,-657.5 0,-657.5\" stroke=\"#000000\"/>\n",
       "<text fill=\"#000000\" font-family=\"Times,serif\" font-size=\"14.00\" text-anchor=\"middle\" x=\"85.9468\" y=\"-671.3\">zip_code_input: InputLayer</text>\n",
       "</g>\n",
       "<!-- 4997190152 -->\n",
       "<g class=\"node\" id=\"node3\">\n",
       "<title>4997190152</title>\n",
       "<polygon fill=\"none\" points=\"4.876,-584.5 4.876,-620.5 169.0176,-620.5 169.0176,-584.5 4.876,-584.5\" stroke=\"#000000\"/>\n",
       "<text fill=\"#000000\" font-family=\"Times,serif\" font-size=\"14.00\" text-anchor=\"middle\" x=\"86.9468\" y=\"-598.3\">embedding_1: Embedding</text>\n",
       "</g>\n",
       "<!-- 4997191496&#45;&gt;4997190152 -->\n",
       "<g class=\"edge\" id=\"edge1\">\n",
       "<title>4997191496-&gt;4997190152</title>\n",
       "<path d=\"M86.194,-657.4551C86.3045,-649.3828 86.4375,-639.6764 86.5607,-630.6817\" fill=\"none\" stroke=\"#000000\"/>\n",
       "<polygon fill=\"#000000\" points=\"90.0616,-630.6374 86.699,-620.5904 83.0622,-630.5414 90.0616,-630.6374\" stroke=\"#000000\"/>\n",
       "</g>\n",
       "<!-- 4997191552 -->\n",
       "<g class=\"node\" id=\"node2\">\n",
       "<title>4997191552</title>\n",
       "<polygon fill=\"none\" points=\"190.2139,-657.5 190.2139,-693.5 349.6797,-693.5 349.6797,-657.5 190.2139,-657.5\" stroke=\"#000000\"/>\n",
       "<text fill=\"#000000\" font-family=\"Times,serif\" font-size=\"14.00\" text-anchor=\"middle\" x=\"269.9468\" y=\"-671.3\">county_input: InputLayer</text>\n",
       "</g>\n",
       "<!-- 4997190936 -->\n",
       "<g class=\"node\" id=\"node4\">\n",
       "<title>4997190936</title>\n",
       "<polygon fill=\"none\" points=\"186.876,-584.5 186.876,-620.5 351.0176,-620.5 351.0176,-584.5 186.876,-584.5\" stroke=\"#000000\"/>\n",
       "<text fill=\"#000000\" font-family=\"Times,serif\" font-size=\"14.00\" text-anchor=\"middle\" x=\"268.9468\" y=\"-598.3\">embedding_2: Embedding</text>\n",
       "</g>\n",
       "<!-- 4997191552&#45;&gt;4997190936 -->\n",
       "<g class=\"edge\" id=\"edge2\">\n",
       "<title>4997191552-&gt;4997190936</title>\n",
       "<path d=\"M269.6996,-657.4551C269.589,-649.3828 269.456,-639.6764 269.3328,-630.6817\" fill=\"none\" stroke=\"#000000\"/>\n",
       "<polygon fill=\"#000000\" points=\"272.8313,-630.5414 269.1946,-620.5904 265.832,-630.6374 272.8313,-630.5414\" stroke=\"#000000\"/>\n",
       "</g>\n",
       "<!-- 4998297976 -->\n",
       "<g class=\"node\" id=\"node6\">\n",
       "<title>4998297976</title>\n",
       "<polygon fill=\"none\" points=\"57.314,-511.5 57.314,-547.5 168.5796,-547.5 168.5796,-511.5 57.314,-511.5\" stroke=\"#000000\"/>\n",
       "<text fill=\"#000000\" font-family=\"Times,serif\" font-size=\"14.00\" text-anchor=\"middle\" x=\"112.9468\" y=\"-525.3\">flatten_1: Flatten</text>\n",
       "</g>\n",
       "<!-- 4997190152&#45;&gt;4998297976 -->\n",
       "<g class=\"edge\" id=\"edge3\">\n",
       "<title>4997190152-&gt;4998297976</title>\n",
       "<path d=\"M93.3737,-584.4551C96.3113,-576.2074 99.8565,-566.2536 103.118,-557.0962\" fill=\"none\" stroke=\"#000000\"/>\n",
       "<polygon fill=\"#000000\" points=\"106.4455,-558.185 106.5036,-547.5904 99.8513,-555.8364 106.4455,-558.185\" stroke=\"#000000\"/>\n",
       "</g>\n",
       "<!-- 4998109560 -->\n",
       "<g class=\"node\" id=\"node7\">\n",
       "<title>4998109560</title>\n",
       "<polygon fill=\"none\" points=\"199.314,-511.5 199.314,-547.5 310.5796,-547.5 310.5796,-511.5 199.314,-511.5\" stroke=\"#000000\"/>\n",
       "<text fill=\"#000000\" font-family=\"Times,serif\" font-size=\"14.00\" text-anchor=\"middle\" x=\"254.9468\" y=\"-525.3\">flatten_2: Flatten</text>\n",
       "</g>\n",
       "<!-- 4997190936&#45;&gt;4998109560 -->\n",
       "<g class=\"edge\" id=\"edge4\">\n",
       "<title>4997190936-&gt;4998109560</title>\n",
       "<path d=\"M265.4861,-584.4551C263.938,-576.3828 262.0765,-566.6764 260.3515,-557.6817\" fill=\"none\" stroke=\"#000000\"/>\n",
       "<polygon fill=\"#000000\" points=\"263.7371,-556.7521 258.4162,-547.5904 256.8624,-558.0706 263.7371,-556.7521\" stroke=\"#000000\"/>\n",
       "</g>\n",
       "<!-- 4997190992 -->\n",
       "<g class=\"node\" id=\"node5\">\n",
       "<title>4997190992</title>\n",
       "<polygon fill=\"none\" points=\"368.3311,-511.5 368.3311,-547.5 535.5625,-547.5 535.5625,-511.5 368.3311,-511.5\" stroke=\"#000000\"/>\n",
       "<text fill=\"#000000\" font-family=\"Times,serif\" font-size=\"14.00\" text-anchor=\"middle\" x=\"451.9468\" y=\"-525.3\">numeric_input: InputLayer</text>\n",
       "</g>\n",
       "<!-- 4997191104 -->\n",
       "<g class=\"node\" id=\"node8\">\n",
       "<title>4997191104</title>\n",
       "<polygon fill=\"none\" points=\"318.9585,-438.5 318.9585,-474.5 584.9351,-474.5 584.9351,-438.5 318.9585,-438.5\" stroke=\"#000000\"/>\n",
       "<text fill=\"#000000\" font-family=\"Times,serif\" font-size=\"14.00\" text-anchor=\"middle\" x=\"451.9468\" y=\"-452.3\">batch_normalization_4: BatchNormalization</text>\n",
       "</g>\n",
       "<!-- 4997190992&#45;&gt;4997191104 -->\n",
       "<g class=\"edge\" id=\"edge5\">\n",
       "<title>4997190992-&gt;4997191104</title>\n",
       "<path d=\"M451.9468,-511.4551C451.9468,-503.3828 451.9468,-493.6764 451.9468,-484.6817\" fill=\"none\" stroke=\"#000000\"/>\n",
       "<polygon fill=\"#000000\" points=\"455.4469,-484.5903 451.9468,-474.5904 448.4469,-484.5904 455.4469,-484.5903\" stroke=\"#000000\"/>\n",
       "</g>\n",
       "<!-- 4997190880 -->\n",
       "<g class=\"node\" id=\"node9\">\n",
       "<title>4997190880</title>\n",
       "<polygon fill=\"none\" points=\"128.6274,-438.5 128.6274,-474.5 301.2661,-474.5 301.2661,-438.5 128.6274,-438.5\" stroke=\"#000000\"/>\n",
       "<text fill=\"#000000\" font-family=\"Times,serif\" font-size=\"14.00\" text-anchor=\"middle\" x=\"214.9468\" y=\"-452.3\">concatenate_1: Concatenate</text>\n",
       "</g>\n",
       "<!-- 4998297976&#45;&gt;4997190880 -->\n",
       "<g class=\"edge\" id=\"edge6\">\n",
       "<title>4998297976-&gt;4997190880</title>\n",
       "<path d=\"M138.1603,-511.4551C151.1556,-502.1545 167.1823,-490.6844 181.2264,-480.6332\" fill=\"none\" stroke=\"#000000\"/>\n",
       "<polygon fill=\"#000000\" points=\"183.5749,-483.2565 189.6698,-474.5904 179.5009,-477.5641 183.5749,-483.2565\" stroke=\"#000000\"/>\n",
       "</g>\n",
       "<!-- 4998109560&#45;&gt;4997190880 -->\n",
       "<g class=\"edge\" id=\"edge7\">\n",
       "<title>4998109560-&gt;4997190880</title>\n",
       "<path d=\"M245.0591,-511.4551C240.4437,-503.0319 234.8532,-492.8292 229.7483,-483.5128\" fill=\"none\" stroke=\"#000000\"/>\n",
       "<polygon fill=\"#000000\" points=\"232.7341,-481.6782 224.8593,-474.5904 226.5953,-485.042 232.7341,-481.6782\" stroke=\"#000000\"/>\n",
       "</g>\n",
       "<!-- 4997191384 -->\n",
       "<g class=\"node\" id=\"node10\">\n",
       "<title>4997191384</title>\n",
       "<polygon fill=\"none\" points=\"246.6274,-365.5 246.6274,-401.5 419.2661,-401.5 419.2661,-365.5 246.6274,-365.5\" stroke=\"#000000\"/>\n",
       "<text fill=\"#000000\" font-family=\"Times,serif\" font-size=\"14.00\" text-anchor=\"middle\" x=\"332.9468\" y=\"-379.3\">concatenate_2: Concatenate</text>\n",
       "</g>\n",
       "<!-- 4997191104&#45;&gt;4997191384 -->\n",
       "<g class=\"edge\" id=\"edge8\">\n",
       "<title>4997191104-&gt;4997191384</title>\n",
       "<path d=\"M422.531,-438.4551C407.0837,-428.979 387.9652,-417.2508 371.3623,-407.0658\" fill=\"none\" stroke=\"#000000\"/>\n",
       "<polygon fill=\"#000000\" points=\"372.7907,-403.836 362.4365,-401.5904 369.1303,-409.8028 372.7907,-403.836\" stroke=\"#000000\"/>\n",
       "</g>\n",
       "<!-- 4997190880&#45;&gt;4997191384 -->\n",
       "<g class=\"edge\" id=\"edge9\">\n",
       "<title>4997190880-&gt;4997191384</title>\n",
       "<path d=\"M244.1153,-438.4551C259.4328,-428.979 278.3907,-417.2508 294.8541,-407.0658\" fill=\"none\" stroke=\"#000000\"/>\n",
       "<polygon fill=\"#000000\" points=\"297.042,-409.8279 303.7048,-401.5904 293.3592,-403.875 297.042,-409.8279\" stroke=\"#000000\"/>\n",
       "</g>\n",
       "<!-- 4998516576 -->\n",
       "<g class=\"node\" id=\"node11\">\n",
       "<title>4998516576</title>\n",
       "<polygon fill=\"none\" points=\"280.8208,-292.5 280.8208,-328.5 385.0728,-328.5 385.0728,-292.5 280.8208,-292.5\" stroke=\"#000000\"/>\n",
       "<text fill=\"#000000\" font-family=\"Times,serif\" font-size=\"14.00\" text-anchor=\"middle\" x=\"332.9468\" y=\"-306.3\">dense_4: Dense</text>\n",
       "</g>\n",
       "<!-- 4997191384&#45;&gt;4998516576 -->\n",
       "<g class=\"edge\" id=\"edge10\">\n",
       "<title>4997191384-&gt;4998516576</title>\n",
       "<path d=\"M332.9468,-365.4551C332.9468,-357.3828 332.9468,-347.6764 332.9468,-338.6817\" fill=\"none\" stroke=\"#000000\"/>\n",
       "<polygon fill=\"#000000\" points=\"336.4469,-338.5903 332.9468,-328.5904 329.4469,-338.5904 336.4469,-338.5903\" stroke=\"#000000\"/>\n",
       "</g>\n",
       "<!-- 4997750512 -->\n",
       "<g class=\"node\" id=\"node12\">\n",
       "<title>4997750512</title>\n",
       "<polygon fill=\"none\" points=\"199.9585,-219.5 199.9585,-255.5 465.9351,-255.5 465.9351,-219.5 199.9585,-219.5\" stroke=\"#000000\"/>\n",
       "<text fill=\"#000000\" font-family=\"Times,serif\" font-size=\"14.00\" text-anchor=\"middle\" x=\"332.9468\" y=\"-233.3\">batch_normalization_5: BatchNormalization</text>\n",
       "</g>\n",
       "<!-- 4998516576&#45;&gt;4997750512 -->\n",
       "<g class=\"edge\" id=\"edge11\">\n",
       "<title>4998516576-&gt;4997750512</title>\n",
       "<path d=\"M332.9468,-292.4551C332.9468,-284.3828 332.9468,-274.6764 332.9468,-265.6817\" fill=\"none\" stroke=\"#000000\"/>\n",
       "<polygon fill=\"#000000\" points=\"336.4469,-265.5903 332.9468,-255.5904 329.4469,-265.5904 336.4469,-265.5903\" stroke=\"#000000\"/>\n",
       "</g>\n",
       "<!-- 4998708528 -->\n",
       "<g class=\"node\" id=\"node13\">\n",
       "<title>4998708528</title>\n",
       "<polygon fill=\"none\" points=\"280.8208,-146.5 280.8208,-182.5 385.0728,-182.5 385.0728,-146.5 280.8208,-146.5\" stroke=\"#000000\"/>\n",
       "<text fill=\"#000000\" font-family=\"Times,serif\" font-size=\"14.00\" text-anchor=\"middle\" x=\"332.9468\" y=\"-160.3\">dense_5: Dense</text>\n",
       "</g>\n",
       "<!-- 4997750512&#45;&gt;4998708528 -->\n",
       "<g class=\"edge\" id=\"edge12\">\n",
       "<title>4997750512-&gt;4998708528</title>\n",
       "<path d=\"M332.9468,-219.4551C332.9468,-211.3828 332.9468,-201.6764 332.9468,-192.6817\" fill=\"none\" stroke=\"#000000\"/>\n",
       "<polygon fill=\"#000000\" points=\"336.4469,-192.5903 332.9468,-182.5904 329.4469,-192.5904 336.4469,-192.5903\" stroke=\"#000000\"/>\n",
       "</g>\n",
       "<!-- 4998709032 -->\n",
       "<g class=\"node\" id=\"node14\">\n",
       "<title>4998709032</title>\n",
       "<polygon fill=\"none\" points=\"199.9585,-73.5 199.9585,-109.5 465.9351,-109.5 465.9351,-73.5 199.9585,-73.5\" stroke=\"#000000\"/>\n",
       "<text fill=\"#000000\" font-family=\"Times,serif\" font-size=\"14.00\" text-anchor=\"middle\" x=\"332.9468\" y=\"-87.3\">batch_normalization_6: BatchNormalization</text>\n",
       "</g>\n",
       "<!-- 4998708528&#45;&gt;4998709032 -->\n",
       "<g class=\"edge\" id=\"edge13\">\n",
       "<title>4998708528-&gt;4998709032</title>\n",
       "<path d=\"M332.9468,-146.4551C332.9468,-138.3828 332.9468,-128.6764 332.9468,-119.6817\" fill=\"none\" stroke=\"#000000\"/>\n",
       "<polygon fill=\"#000000\" points=\"336.4469,-119.5903 332.9468,-109.5904 329.4469,-119.5904 336.4469,-119.5903\" stroke=\"#000000\"/>\n",
       "</g>\n",
       "<!-- 4998851944 -->\n",
       "<g class=\"node\" id=\"node15\">\n",
       "<title>4998851944</title>\n",
       "<polygon fill=\"none\" points=\"280.8208,-.5 280.8208,-36.5 385.0728,-36.5 385.0728,-.5 280.8208,-.5\" stroke=\"#000000\"/>\n",
       "<text fill=\"#000000\" font-family=\"Times,serif\" font-size=\"14.00\" text-anchor=\"middle\" x=\"332.9468\" y=\"-14.3\">dense_6: Dense</text>\n",
       "</g>\n",
       "<!-- 4998709032&#45;&gt;4998851944 -->\n",
       "<g class=\"edge\" id=\"edge14\">\n",
       "<title>4998709032-&gt;4998851944</title>\n",
       "<path d=\"M332.9468,-73.4551C332.9468,-65.3828 332.9468,-55.6764 332.9468,-46.6817\" fill=\"none\" stroke=\"#000000\"/>\n",
       "<polygon fill=\"#000000\" points=\"336.4469,-46.5903 332.9468,-36.5904 329.4469,-46.5904 336.4469,-46.5903\" stroke=\"#000000\"/>\n",
       "</g>\n",
       "</g>\n",
       "</svg>"
      ],
      "text/plain": [
       "<IPython.core.display.SVG object>"
      ]
     },
     "execution_count": 13,
     "metadata": {},
     "output_type": "execute_result"
    }
   ],
   "source": [
    "from IPython.display import SVG\n",
    "from keras.utils.vis_utils import model_to_dot\n",
    "SVG(model_to_dot(model).create(prog='dot', format='svg'))"
   ]
  },
  {
   "cell_type": "code",
   "execution_count": 14,
   "metadata": {},
   "outputs": [],
   "source": [
    "X_train_input = {\n",
    "    'numeric_input': X_train[numeric_features],\n",
    "    'zip_code_input': X_train['zip_code_encoding'],\n",
    "    'county_input': X_train['county_encoding']\n",
    "}\n",
    "X_test_input = {\n",
    "    'numeric_input': X_test[numeric_features],\n",
    "    'zip_code_input': X_test['zip_code_encoding'],\n",
    "    'county_input': X_test['county_encoding']\n",
    "}"
   ]
  },
  {
   "cell_type": "code",
   "execution_count": 15,
   "metadata": {},
   "outputs": [],
   "source": [
    "model.compile(loss='mse', optimizer='adam')"
   ]
  },
  {
   "cell_type": "code",
   "execution_count": 16,
   "metadata": {},
   "outputs": [
    {
     "name": "stdout",
     "output_type": "stream",
     "text": [
      "Train on 16261 samples, validate on 4113 samples\n",
      "Epoch 1/5\n",
      "16261/16261 [==============================] - 2s 138us/step - loss: 1.5041 - val_loss: 0.4972\n",
      "Epoch 2/5\n",
      "16261/16261 [==============================] - 1s 78us/step - loss: 0.5685 - val_loss: 0.3993\n",
      "Epoch 3/5\n",
      "16261/16261 [==============================] - 1s 75us/step - loss: 0.4438 - val_loss: 0.3282\n",
      "Epoch 4/5\n",
      "16261/16261 [==============================] - 1s 76us/step - loss: 0.3583 - val_loss: 0.2920\n",
      "Epoch 5/5\n",
      "16261/16261 [==============================] - 1s 74us/step - loss: 0.2900 - val_loss: 0.2852\n"
     ]
    },
    {
     "data": {
      "text/plain": [
       "<keras.callbacks.History at 0x12a1e1e10>"
      ]
     },
     "execution_count": 16,
     "metadata": {},
     "output_type": "execute_result"
    }
   ],
   "source": [
    "model.fit(\n",
    "    X_train_input, y_train,\n",
    "    epochs=5,\n",
    "    validation_data=(X_test_input, y_test)\n",
    ")"
   ]
  },
  {
   "cell_type": "markdown",
   "metadata": {},
   "source": [
    "Not bad. 5 epochs later and we are already outperforming our first model and aren't overfitting any more (although we didn't try that hard not to overfit the first time)."
   ]
  },
  {
   "cell_type": "markdown",
   "metadata": {},
   "source": [
    "# Model 3: Including Free Text\n",
    "\n",
    "In the final model we'll build in this post we'll demonstrate how to include free text as a feature alongside the numeric and embedding features we used above.\n",
    "\n",
    "The key idea here is to include a component in our model that takes a sequence of variable length (in this case an LSTM) and projects that sequence into a feature space with fixed dimmension. Then we'll concatenate this feature representation alongside the numeric features just as we did with the embeddings above. Note that this approach could also work for other non-tabular data sources such as image or video or time series.\n",
    "\n",
    "Note that to keep the implementation in this post simple we're actually going to restrict the wikipedia descriptions to 250 characters, and if the description has fewer characters we will just pad the sequence to get the full 250. This has the effect of treating the free text data as having a fixed, and not variable, length as promised. However the code below can be easily adjusted to accomodate this by using a batch generator and padding the batches rather than the entire data set once. Again the graphical representation of the model below is helpful.\n",
    "\n",
    "Out of curiosity we'll get a rough count of about how many words are in each wiki page."
   ]
  },
  {
   "cell_type": "code",
   "execution_count": 17,
   "metadata": {},
   "outputs": [
    {
     "data": {
      "text/plain": [
       "count    20374.000000\n",
       "mean      3434.626141\n",
       "std       1837.569671\n",
       "min         47.000000\n",
       "25%       2299.000000\n",
       "50%       3341.000000\n",
       "75%       3508.000000\n",
       "max       7845.000000\n",
       "Name: county_description, dtype: float64"
      ]
     },
     "execution_count": 17,
     "metadata": {},
     "output_type": "execute_result"
    }
   ],
   "source": [
    "df.county_description.str.split(' ').apply(len).describe()"
   ]
  },
  {
   "cell_type": "code",
   "execution_count": 18,
   "metadata": {
    "scrolled": true
   },
   "outputs": [],
   "source": [
    "tokenizer = keras.preprocessing.text.Tokenizer(num_words=2000)\n",
    "tokenizer.fit_on_texts(X_test.county_description)"
   ]
  },
  {
   "cell_type": "code",
   "execution_count": 19,
   "metadata": {},
   "outputs": [
    {
     "name": "stdout",
     "output_type": "stream",
     "text": [
      "CPU times: user 1min 14s, sys: 1.02 s, total: 1min 15s\n",
      "Wall time: 1min 16s\n"
     ]
    }
   ],
   "source": [
    "%%time\n",
    "X_train_descr = [\n",
    "    s[:250]\n",
    "    for s in tokenizer.texts_to_sequences(X_train.county_description)]\n",
    "X_test_descr = [\n",
    "    s[:250]\n",
    "    for s in tokenizer.texts_to_sequences(X_test.county_description)]"
   ]
  },
  {
   "cell_type": "code",
   "execution_count": 20,
   "metadata": {},
   "outputs": [],
   "source": [
    "# numeric features\n",
    "numeric_inputs = keras.layers.Input(shape=(len(numeric_features),), name='numeric_input')\n",
    "x_numeric = keras.layers.BatchNormalization()(numeric_inputs)\n",
    "\n",
    "\n",
    "# categorical feature embeddings\n",
    "zip_code_input = keras.layers.Input(shape=(1,), name='zip_code_input')\n",
    "zip_code_embedding = keras.layers.Embedding(\n",
    "    input_dim=X_train.zip_code_encoding.nunique()+1,\n",
    "    output_dim=3, input_length=1)(zip_code_input)\n",
    "\n",
    "county_input = keras.layers.Input(shape=(1,), name='county_input')\n",
    "county_embedding = keras.layers.Embedding(\n",
    "    input_dim=X_train.zip_code_encoding.nunique()+1,\n",
    "    output_dim=3, input_length=1)(county_input)\n",
    "embedding_tensors = [zip_code_embedding, county_embedding]\n",
    "x_embeddings = keras.layers.Concatenate()([\n",
    "    keras.layers.Flatten()(embedding) for embedding in embedding_tensors\n",
    "])\n",
    "\n",
    "\n",
    "# LSTM input\n",
    "description_input = keras.layers.Input(shape=(None,), name='descr_input')\n",
    "description_embedding = keras.layers.Embedding(\n",
    "    input_dim=2000, output_dim=10, input_length=250)(description_input)\n",
    "lstm = keras.layers.LSTM(10)(description_embedding)\n",
    "\n",
    "\n",
    "x = keras.layers.Concatenate()([x_numeric, x_embeddings, lstm])\n",
    "x = keras.layers.Dense(26, activation='relu')(x)\n",
    "x = keras.layers.BatchNormalization()(x)\n",
    "x = keras.layers.Dense(14, activation='relu')(x)\n",
    "x = keras.layers.BatchNormalization()(x)\n",
    "x = keras.layers.Dense(1, activation='relu')(x)\n",
    "\n",
    "model = keras.models.Model(\n",
    "    inputs=[numeric_inputs, zip_code_input, county_input, description_input],\n",
    "    outputs=x)"
   ]
  },
  {
   "cell_type": "code",
   "execution_count": 21,
   "metadata": {
    "scrolled": true
   },
   "outputs": [
    {
     "data": {
      "image/svg+xml": [
       "<svg height=\"702pt\" viewBox=\"0.00 0.00 654.44 702.00\" width=\"654pt\" xmlns=\"http://www.w3.org/2000/svg\" xmlns:xlink=\"http://www.w3.org/1999/xlink\">\n",
       "<g class=\"graph\" id=\"graph0\" transform=\"scale(1 1) rotate(0) translate(4 698)\">\n",
       "<title>G</title>\n",
       "<polygon fill=\"#ffffff\" points=\"-4,4 -4,-698 650.4385,-698 650.4385,4 -4,4\" stroke=\"transparent\"/>\n",
       "<!-- 9068014952 -->\n",
       "<g class=\"node\" id=\"node1\">\n",
       "<title>9068014952</title>\n",
       "<polygon fill=\"none\" points=\"310.0415,-657.5 310.0415,-693.5 481.9351,-693.5 481.9351,-657.5 310.0415,-657.5\" stroke=\"#000000\"/>\n",
       "<text fill=\"#000000\" font-family=\"Times,serif\" font-size=\"14.00\" text-anchor=\"middle\" x=\"395.9883\" y=\"-671.3\">zip_code_input: InputLayer</text>\n",
       "</g>\n",
       "<!-- 9068013328 -->\n",
       "<g class=\"node\" id=\"node3\">\n",
       "<title>9068013328</title>\n",
       "<polygon fill=\"none\" points=\"312.9175,-584.5 312.9175,-620.5 477.0591,-620.5 477.0591,-584.5 312.9175,-584.5\" stroke=\"#000000\"/>\n",
       "<text fill=\"#000000\" font-family=\"Times,serif\" font-size=\"14.00\" text-anchor=\"middle\" x=\"394.9883\" y=\"-598.3\">embedding_3: Embedding</text>\n",
       "</g>\n",
       "<!-- 9068014952&#45;&gt;9068013328 -->\n",
       "<g class=\"edge\" id=\"edge1\">\n",
       "<title>9068014952-&gt;9068013328</title>\n",
       "<path d=\"M395.7411,-657.4551C395.6305,-649.3828 395.4975,-639.6764 395.3743,-630.6817\" fill=\"none\" stroke=\"#000000\"/>\n",
       "<polygon fill=\"#000000\" points=\"398.8728,-630.5414 395.2361,-620.5904 391.8735,-630.6374 398.8728,-630.5414\" stroke=\"#000000\"/>\n",
       "</g>\n",
       "<!-- 9068013272 -->\n",
       "<g class=\"node\" id=\"node2\">\n",
       "<title>9068013272</title>\n",
       "<polygon fill=\"none\" points=\"132.2554,-657.5 132.2554,-693.5 291.7212,-693.5 291.7212,-657.5 132.2554,-657.5\" stroke=\"#000000\"/>\n",
       "<text fill=\"#000000\" font-family=\"Times,serif\" font-size=\"14.00\" text-anchor=\"middle\" x=\"211.9883\" y=\"-671.3\">county_input: InputLayer</text>\n",
       "</g>\n",
       "<!-- 9068014896 -->\n",
       "<g class=\"node\" id=\"node4\">\n",
       "<title>9068014896</title>\n",
       "<polygon fill=\"none\" points=\"130.9175,-584.5 130.9175,-620.5 295.0591,-620.5 295.0591,-584.5 130.9175,-584.5\" stroke=\"#000000\"/>\n",
       "<text fill=\"#000000\" font-family=\"Times,serif\" font-size=\"14.00\" text-anchor=\"middle\" x=\"212.9883\" y=\"-598.3\">embedding_4: Embedding</text>\n",
       "</g>\n",
       "<!-- 9068013272&#45;&gt;9068014896 -->\n",
       "<g class=\"edge\" id=\"edge2\">\n",
       "<title>9068013272-&gt;9068014896</title>\n",
       "<path d=\"M212.2355,-657.4551C212.3461,-649.3828 212.479,-639.6764 212.6022,-630.6817\" fill=\"none\" stroke=\"#000000\"/>\n",
       "<polygon fill=\"#000000\" points=\"216.1031,-630.6374 212.7405,-620.5904 209.1037,-630.5414 216.1031,-630.6374\" stroke=\"#000000\"/>\n",
       "</g>\n",
       "<!-- 9067349440 -->\n",
       "<g class=\"node\" id=\"node7\">\n",
       "<title>9067349440</title>\n",
       "<polygon fill=\"none\" points=\"339.3555,-511.5 339.3555,-547.5 450.6211,-547.5 450.6211,-511.5 339.3555,-511.5\" stroke=\"#000000\"/>\n",
       "<text fill=\"#000000\" font-family=\"Times,serif\" font-size=\"14.00\" text-anchor=\"middle\" x=\"394.9883\" y=\"-525.3\">flatten_3: Flatten</text>\n",
       "</g>\n",
       "<!-- 9068013328&#45;&gt;9067349440 -->\n",
       "<g class=\"edge\" id=\"edge3\">\n",
       "<title>9068013328-&gt;9067349440</title>\n",
       "<path d=\"M394.9883,-584.4551C394.9883,-576.3828 394.9883,-566.6764 394.9883,-557.6817\" fill=\"none\" stroke=\"#000000\"/>\n",
       "<polygon fill=\"#000000\" points=\"398.4884,-557.5903 394.9883,-547.5904 391.4884,-557.5904 398.4884,-557.5903\" stroke=\"#000000\"/>\n",
       "</g>\n",
       "<!-- 5008904488 -->\n",
       "<g class=\"node\" id=\"node8\">\n",
       "<title>5008904488</title>\n",
       "<polygon fill=\"none\" points=\"210.3555,-511.5 210.3555,-547.5 321.6211,-547.5 321.6211,-511.5 210.3555,-511.5\" stroke=\"#000000\"/>\n",
       "<text fill=\"#000000\" font-family=\"Times,serif\" font-size=\"14.00\" text-anchor=\"middle\" x=\"265.9883\" y=\"-525.3\">flatten_4: Flatten</text>\n",
       "</g>\n",
       "<!-- 9068014896&#45;&gt;5008904488 -->\n",
       "<g class=\"edge\" id=\"edge4\">\n",
       "<title>9068014896-&gt;5008904488</title>\n",
       "<path d=\"M226.0894,-584.4551C232.3323,-575.8564 239.9215,-565.4034 246.7982,-555.9316\" fill=\"none\" stroke=\"#000000\"/>\n",
       "<polygon fill=\"#000000\" points=\"249.8113,-557.7388 252.8542,-547.5904 244.1468,-553.6262 249.8113,-557.7388\" stroke=\"#000000\"/>\n",
       "</g>\n",
       "<!-- 9068015008 -->\n",
       "<g class=\"node\" id=\"node5\">\n",
       "<title>9068015008</title>\n",
       "<polygon fill=\"none\" points=\"495.5381,-584.5 495.5381,-620.5 646.4385,-620.5 646.4385,-584.5 495.5381,-584.5\" stroke=\"#000000\"/>\n",
       "<text fill=\"#000000\" font-family=\"Times,serif\" font-size=\"14.00\" text-anchor=\"middle\" x=\"570.9883\" y=\"-598.3\">descr_input: InputLayer</text>\n",
       "</g>\n",
       "<!-- 5130057376 -->\n",
       "<g class=\"node\" id=\"node9\">\n",
       "<title>5130057376</title>\n",
       "<polygon fill=\"none\" points=\"478.9175,-511.5 478.9175,-547.5 643.0591,-547.5 643.0591,-511.5 478.9175,-511.5\" stroke=\"#000000\"/>\n",
       "<text fill=\"#000000\" font-family=\"Times,serif\" font-size=\"14.00\" text-anchor=\"middle\" x=\"560.9883\" y=\"-525.3\">embedding_5: Embedding</text>\n",
       "</g>\n",
       "<!-- 9068015008&#45;&gt;5130057376 -->\n",
       "<g class=\"edge\" id=\"edge5\">\n",
       "<title>9068015008-&gt;5130057376</title>\n",
       "<path d=\"M568.5164,-584.4551C567.4106,-576.3828 566.0809,-566.6764 564.8488,-557.6817\" fill=\"none\" stroke=\"#000000\"/>\n",
       "<polygon fill=\"#000000\" points=\"568.2913,-557.0228 563.4664,-547.5904 561.3561,-557.9729 568.2913,-557.0228\" stroke=\"#000000\"/>\n",
       "</g>\n",
       "<!-- 5008863304 -->\n",
       "<g class=\"node\" id=\"node6\">\n",
       "<title>5008863304</title>\n",
       "<polygon fill=\"none\" points=\"25.3726,-511.5 25.3726,-547.5 192.604,-547.5 192.604,-511.5 25.3726,-511.5\" stroke=\"#000000\"/>\n",
       "<text fill=\"#000000\" font-family=\"Times,serif\" font-size=\"14.00\" text-anchor=\"middle\" x=\"108.9883\" y=\"-525.3\">numeric_input: InputLayer</text>\n",
       "</g>\n",
       "<!-- 5008863360 -->\n",
       "<g class=\"node\" id=\"node10\">\n",
       "<title>5008863360</title>\n",
       "<polygon fill=\"none\" points=\"0,-438.5 0,-474.5 265.9766,-474.5 265.9766,-438.5 0,-438.5\" stroke=\"#000000\"/>\n",
       "<text fill=\"#000000\" font-family=\"Times,serif\" font-size=\"14.00\" text-anchor=\"middle\" x=\"132.9883\" y=\"-452.3\">batch_normalization_7: BatchNormalization</text>\n",
       "</g>\n",
       "<!-- 5008863304&#45;&gt;5008863360 -->\n",
       "<g class=\"edge\" id=\"edge6\">\n",
       "<title>5008863304-&gt;5008863360</title>\n",
       "<path d=\"M114.9209,-511.4551C117.6324,-503.2074 120.9049,-493.2536 123.9156,-484.0962\" fill=\"none\" stroke=\"#000000\"/>\n",
       "<polygon fill=\"#000000\" points=\"127.2424,-485.1833 127.0408,-474.5904 120.5926,-482.997 127.2424,-485.1833\" stroke=\"#000000\"/>\n",
       "</g>\n",
       "<!-- 9068015176 -->\n",
       "<g class=\"node\" id=\"node11\">\n",
       "<title>9068015176</title>\n",
       "<polygon fill=\"none\" points=\"295.6689,-438.5 295.6689,-474.5 468.3076,-474.5 468.3076,-438.5 295.6689,-438.5\" stroke=\"#000000\"/>\n",
       "<text fill=\"#000000\" font-family=\"Times,serif\" font-size=\"14.00\" text-anchor=\"middle\" x=\"381.9883\" y=\"-452.3\">concatenate_3: Concatenate</text>\n",
       "</g>\n",
       "<!-- 9067349440&#45;&gt;9068015176 -->\n",
       "<g class=\"edge\" id=\"edge7\">\n",
       "<title>9067349440-&gt;9068015176</title>\n",
       "<path d=\"M391.7748,-511.4551C390.3373,-503.3828 388.6087,-493.6764 387.0069,-484.6817\" fill=\"none\" stroke=\"#000000\"/>\n",
       "<polygon fill=\"#000000\" points=\"390.409,-483.8218 385.2099,-474.5904 383.5174,-485.0491 390.409,-483.8218\" stroke=\"#000000\"/>\n",
       "</g>\n",
       "<!-- 5008904488&#45;&gt;9068015176 -->\n",
       "<g class=\"edge\" id=\"edge8\">\n",
       "<title>5008904488-&gt;9068015176</title>\n",
       "<path d=\"M294.6624,-511.4551C309.7203,-501.979 328.3569,-490.2508 344.5412,-480.0658\" fill=\"none\" stroke=\"#000000\"/>\n",
       "<polygon fill=\"#000000\" points=\"346.6426,-482.8788 353.242,-474.5904 342.9142,-476.9544 346.6426,-482.8788\" stroke=\"#000000\"/>\n",
       "</g>\n",
       "<!-- 5008907064 -->\n",
       "<g class=\"node\" id=\"node12\">\n",
       "<title>5008907064</title>\n",
       "<polygon fill=\"none\" points=\"498.5659,-438.5 498.5659,-474.5 597.4106,-474.5 597.4106,-438.5 498.5659,-438.5\" stroke=\"#000000\"/>\n",
       "<text fill=\"#000000\" font-family=\"Times,serif\" font-size=\"14.00\" text-anchor=\"middle\" x=\"547.9883\" y=\"-452.3\">lstm_1: LSTM</text>\n",
       "</g>\n",
       "<!-- 5130057376&#45;&gt;5008907064 -->\n",
       "<g class=\"edge\" id=\"edge9\">\n",
       "<title>5130057376-&gt;5008907064</title>\n",
       "<path d=\"M557.7748,-511.4551C556.3373,-503.3828 554.6087,-493.6764 553.0069,-484.6817\" fill=\"none\" stroke=\"#000000\"/>\n",
       "<polygon fill=\"#000000\" points=\"556.409,-483.8218 551.2099,-474.5904 549.5174,-485.0491 556.409,-483.8218\" stroke=\"#000000\"/>\n",
       "</g>\n",
       "<!-- 5008907624 -->\n",
       "<g class=\"node\" id=\"node13\">\n",
       "<title>5008907624</title>\n",
       "<polygon fill=\"none\" points=\"295.6689,-365.5 295.6689,-401.5 468.3076,-401.5 468.3076,-365.5 295.6689,-365.5\" stroke=\"#000000\"/>\n",
       "<text fill=\"#000000\" font-family=\"Times,serif\" font-size=\"14.00\" text-anchor=\"middle\" x=\"381.9883\" y=\"-379.3\">concatenate_4: Concatenate</text>\n",
       "</g>\n",
       "<!-- 5008863360&#45;&gt;5008907624 -->\n",
       "<g class=\"edge\" id=\"edge10\">\n",
       "<title>5008863360-&gt;5008907624</title>\n",
       "<path d=\"M194.5389,-438.4551C229.7046,-428.1454 273.963,-415.1701 310.6429,-404.4165\" fill=\"none\" stroke=\"#000000\"/>\n",
       "<polygon fill=\"#000000\" points=\"311.6714,-407.7624 320.2828,-401.5904 309.702,-401.0451 311.6714,-407.7624\" stroke=\"#000000\"/>\n",
       "</g>\n",
       "<!-- 9068015176&#45;&gt;5008907624 -->\n",
       "<g class=\"edge\" id=\"edge11\">\n",
       "<title>9068015176-&gt;5008907624</title>\n",
       "<path d=\"M381.9883,-438.4551C381.9883,-430.3828 381.9883,-420.6764 381.9883,-411.6817\" fill=\"none\" stroke=\"#000000\"/>\n",
       "<polygon fill=\"#000000\" points=\"385.4884,-411.5903 381.9883,-401.5904 378.4884,-411.5904 385.4884,-411.5903\" stroke=\"#000000\"/>\n",
       "</g>\n",
       "<!-- 5008907064&#45;&gt;5008907624 -->\n",
       "<g class=\"edge\" id=\"edge12\">\n",
       "<title>5008907064-&gt;5008907624</title>\n",
       "<path d=\"M506.9546,-438.4551C484.4086,-428.5403 456.2563,-416.16 432.383,-405.6615\" fill=\"none\" stroke=\"#000000\"/>\n",
       "<polygon fill=\"#000000\" points=\"433.6882,-402.4121 423.1253,-401.5904 430.8703,-408.8198 433.6882,-402.4121\" stroke=\"#000000\"/>\n",
       "</g>\n",
       "<!-- 5010666944 -->\n",
       "<g class=\"node\" id=\"node14\">\n",
       "<title>5010666944</title>\n",
       "<polygon fill=\"none\" points=\"329.8623,-292.5 329.8623,-328.5 434.1143,-328.5 434.1143,-292.5 329.8623,-292.5\" stroke=\"#000000\"/>\n",
       "<text fill=\"#000000\" font-family=\"Times,serif\" font-size=\"14.00\" text-anchor=\"middle\" x=\"381.9883\" y=\"-306.3\">dense_7: Dense</text>\n",
       "</g>\n",
       "<!-- 5008907624&#45;&gt;5010666944 -->\n",
       "<g class=\"edge\" id=\"edge13\">\n",
       "<title>5008907624-&gt;5010666944</title>\n",
       "<path d=\"M381.9883,-365.4551C381.9883,-357.3828 381.9883,-347.6764 381.9883,-338.6817\" fill=\"none\" stroke=\"#000000\"/>\n",
       "<polygon fill=\"#000000\" points=\"385.4884,-338.5903 381.9883,-328.5904 378.4884,-338.5904 385.4884,-338.5903\" stroke=\"#000000\"/>\n",
       "</g>\n",
       "<!-- 5010669520 -->\n",
       "<g class=\"node\" id=\"node15\">\n",
       "<title>5010669520</title>\n",
       "<polygon fill=\"none\" points=\"249,-219.5 249,-255.5 514.9766,-255.5 514.9766,-219.5 249,-219.5\" stroke=\"#000000\"/>\n",
       "<text fill=\"#000000\" font-family=\"Times,serif\" font-size=\"14.00\" text-anchor=\"middle\" x=\"381.9883\" y=\"-233.3\">batch_normalization_8: BatchNormalization</text>\n",
       "</g>\n",
       "<!-- 5010666944&#45;&gt;5010669520 -->\n",
       "<g class=\"edge\" id=\"edge14\">\n",
       "<title>5010666944-&gt;5010669520</title>\n",
       "<path d=\"M381.9883,-292.4551C381.9883,-284.3828 381.9883,-274.6764 381.9883,-265.6817\" fill=\"none\" stroke=\"#000000\"/>\n",
       "<polygon fill=\"#000000\" points=\"385.4884,-265.5903 381.9883,-255.5904 378.4884,-265.5904 385.4884,-265.5903\" stroke=\"#000000\"/>\n",
       "</g>\n",
       "<!-- 9067380576 -->\n",
       "<g class=\"node\" id=\"node16\">\n",
       "<title>9067380576</title>\n",
       "<polygon fill=\"none\" points=\"329.8623,-146.5 329.8623,-182.5 434.1143,-182.5 434.1143,-146.5 329.8623,-146.5\" stroke=\"#000000\"/>\n",
       "<text fill=\"#000000\" font-family=\"Times,serif\" font-size=\"14.00\" text-anchor=\"middle\" x=\"381.9883\" y=\"-160.3\">dense_8: Dense</text>\n",
       "</g>\n",
       "<!-- 5010669520&#45;&gt;9067380576 -->\n",
       "<g class=\"edge\" id=\"edge15\">\n",
       "<title>5010669520-&gt;9067380576</title>\n",
       "<path d=\"M381.9883,-219.4551C381.9883,-211.3828 381.9883,-201.6764 381.9883,-192.6817\" fill=\"none\" stroke=\"#000000\"/>\n",
       "<polygon fill=\"#000000\" points=\"385.4884,-192.5903 381.9883,-182.5904 378.4884,-192.5904 385.4884,-192.5903\" stroke=\"#000000\"/>\n",
       "</g>\n",
       "<!-- 5009796736 -->\n",
       "<g class=\"node\" id=\"node17\">\n",
       "<title>5009796736</title>\n",
       "<polygon fill=\"none\" points=\"249,-73.5 249,-109.5 514.9766,-109.5 514.9766,-73.5 249,-73.5\" stroke=\"#000000\"/>\n",
       "<text fill=\"#000000\" font-family=\"Times,serif\" font-size=\"14.00\" text-anchor=\"middle\" x=\"381.9883\" y=\"-87.3\">batch_normalization_9: BatchNormalization</text>\n",
       "</g>\n",
       "<!-- 9067380576&#45;&gt;5009796736 -->\n",
       "<g class=\"edge\" id=\"edge16\">\n",
       "<title>9067380576-&gt;5009796736</title>\n",
       "<path d=\"M381.9883,-146.4551C381.9883,-138.3828 381.9883,-128.6764 381.9883,-119.6817\" fill=\"none\" stroke=\"#000000\"/>\n",
       "<polygon fill=\"#000000\" points=\"385.4884,-119.5903 381.9883,-109.5904 378.4884,-119.5904 385.4884,-119.5903\" stroke=\"#000000\"/>\n",
       "</g>\n",
       "<!-- 9064859464 -->\n",
       "<g class=\"node\" id=\"node18\">\n",
       "<title>9064859464</title>\n",
       "<polygon fill=\"none\" points=\"329.8623,-.5 329.8623,-36.5 434.1143,-36.5 434.1143,-.5 329.8623,-.5\" stroke=\"#000000\"/>\n",
       "<text fill=\"#000000\" font-family=\"Times,serif\" font-size=\"14.00\" text-anchor=\"middle\" x=\"381.9883\" y=\"-14.3\">dense_9: Dense</text>\n",
       "</g>\n",
       "<!-- 5009796736&#45;&gt;9064859464 -->\n",
       "<g class=\"edge\" id=\"edge17\">\n",
       "<title>5009796736-&gt;9064859464</title>\n",
       "<path d=\"M381.9883,-73.4551C381.9883,-65.3828 381.9883,-55.6764 381.9883,-46.6817\" fill=\"none\" stroke=\"#000000\"/>\n",
       "<polygon fill=\"#000000\" points=\"385.4884,-46.5903 381.9883,-36.5904 378.4884,-46.5904 385.4884,-46.5903\" stroke=\"#000000\"/>\n",
       "</g>\n",
       "</g>\n",
       "</svg>"
      ],
      "text/plain": [
       "<IPython.core.display.SVG object>"
      ]
     },
     "execution_count": 21,
     "metadata": {},
     "output_type": "execute_result"
    }
   ],
   "source": [
    "from IPython.display import SVG\n",
    "from keras.utils.vis_utils import model_to_dot\n",
    "SVG(model_to_dot(model).create(prog='dot', format='svg'))"
   ]
  },
  {
   "cell_type": "code",
   "execution_count": 22,
   "metadata": {},
   "outputs": [],
   "source": [
    "import numpy as np\n",
    "X_train_input = {\n",
    "    'numeric_input': X_train[numeric_features],\n",
    "    'zip_code_input': X_train['zip_code_encoding'],\n",
    "    'county_input': X_train['county_encoding'],\n",
    "    'descr_input': keras.preprocessing.sequence.pad_sequences(X_train_descr, maxlen=250)\n",
    "}\n",
    "X_test_input = {\n",
    "    'numeric_input': X_test[numeric_features],\n",
    "    'zip_code_input': X_test['zip_code_encoding'],\n",
    "    'county_input': X_test['county_encoding'],\n",
    "    'descr_input': keras.preprocessing.sequence.pad_sequences(X_test_descr, maxlen=250)\n",
    "}"
   ]
  },
  {
   "cell_type": "code",
   "execution_count": 23,
   "metadata": {},
   "outputs": [],
   "source": [
    "model.compile(loss='mse', optimizer='adam')"
   ]
  },
  {
   "cell_type": "code",
   "execution_count": 24,
   "metadata": {
    "scrolled": false
   },
   "outputs": [
    {
     "name": "stdout",
     "output_type": "stream",
     "text": [
      "Train on 16261 samples, validate on 4113 samples\n",
      "Epoch 1/5\n",
      "16261/16261 [==============================] - 103s 6ms/step - loss: 1.2729 - val_loss: 0.5273\n",
      "Epoch 2/5\n",
      "16261/16261 [==============================] - 101s 6ms/step - loss: 0.5273 - val_loss: 0.3623\n",
      "Epoch 3/5\n",
      "16261/16261 [==============================] - 101s 6ms/step - loss: 0.3856 - val_loss: 0.3293\n",
      "Epoch 4/5\n",
      "16261/16261 [==============================] - 101s 6ms/step - loss: 0.3456 - val_loss: 0.2808\n",
      "Epoch 5/5\n",
      "16261/16261 [==============================] - 102s 6ms/step - loss: 0.3030 - val_loss: 0.2687\n"
     ]
    },
    {
     "data": {
      "text/plain": [
       "<keras.callbacks.History at 0x21c76b908>"
      ]
     },
     "execution_count": 24,
     "metadata": {},
     "output_type": "execute_result"
    }
   ],
   "source": [
    "model.fit(\n",
    "    X_train_input, y_train,\n",
    "    epochs=5,\n",
    "    validation_data=(X_test_input, y_test)\n",
    ")"
   ]
  },
  {
   "cell_type": "markdown",
   "metadata": {},
   "source": [
    "We see that including the text data improves the model's error after training for 5 epochs. However, this likely means that these features are simply helping the model *converge* faster not *perform* better since there is a 1-1 relationship with county description and county (which is to day the free text isn't actually adding information not already encoded in the county, instead including information about that counties that helps the model learn how to generalize from county to county faster). I imagine that if this model and the previous model were both trained longer they would achieve very similar performance after converging. The real advantage performance-wise of this sort of technique would be if each training example had it's own unique description - something like [this dataset](https://www.kaggle.com/c/mercari-price-suggestion-challenge)."
   ]
  },
  {
   "cell_type": "markdown",
   "metadata": {},
   "source": [
    "# Conclusion\n",
    "\n",
    "These are just a few ideas to get you started with using deep learning techniques with tabular data. Some of these techniques could even be used to generate features for other algorithms (like using pretrained embeddings as input to a decision tree), however I like to keep everything in `keras`. The possibilities, of course, are endless, but hopefully this post gives you an idea where to start."
   ]
  }
 ],
 "metadata": {
  "kernelspec": {
   "display_name": "Python 3",
   "language": "python",
   "name": "python3"
  },
  "language_info": {
   "codemirror_mode": {
    "name": "ipython",
    "version": 3
   },
   "file_extension": ".py",
   "mimetype": "text/x-python",
   "name": "python",
   "nbconvert_exporter": "python",
   "pygments_lexer": "ipython3",
   "version": "3.6.2"
  }
 },
 "nbformat": 4,
 "nbformat_minor": 2
}
